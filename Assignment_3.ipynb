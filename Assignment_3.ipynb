{
  "cells": [
    {
      "cell_type": "markdown",
      "metadata": {
        "id": "view-in-github",
        "colab_type": "text"
      },
      "source": [
        "<a href=\"https://colab.research.google.com/github/K-Chandel77/Python_basic_1/blob/main/Assignment_3.ipynb\" target=\"_parent\"><img src=\"https://colab.research.google.com/assets/colab-badge.svg\" alt=\"Open In Colab\"/></a>"
      ]
    },
    {
      "cell_type": "code",
      "source": [
        "num = input('Enter the number: ')\n",
        "\n",
        "def factorial(n):\n",
        "    if n < 2:\n",
        "      return 1\n",
        "    else:\n",
        "      return n * (factorial (n-1))\n",
        "\n",
        "result = factorial (7)\n",
        "\n",
        "print(f\"Factorial of {num} is: {result}\")"
      ],
      "metadata": {
        "colab": {
          "base_uri": "https://localhost:8080/"
        },
        "id": "ureXddtlSZ4q",
        "outputId": "449f02b5-edf8-42e3-c3c8-53d12b808e54"
      },
      "execution_count": null,
      "outputs": [
        {
          "output_type": "stream",
          "name": "stdout",
          "text": [
            "Enter the number: 7\n",
            "Factorial of 7 is: 5040\n"
          ]
        }
      ]
    },
    {
      "cell_type": "code",
      "source": [
        "num1 = float(input('Enter a number: '))\n",
        "\n",
        "square_root = math.sqrt(num1)\n",
        "logarithm = math.log(num1)\n",
        "sine = math.sin(num1)\n",
        "\n",
        "print(f\"Square root: {square_root}\")\n",
        "print(f\"Logarithm: {logarithm}\")\n",
        "print(f\"Sine: {sine}\")\n"
      ],
      "metadata": {
        "colab": {
          "base_uri": "https://localhost:8080/"
        },
        "id": "ODajhFMZXmyY",
        "outputId": "24079cad-01ee-4ba6-efff-b898e1f49e7c"
      },
      "execution_count": null,
      "outputs": [
        {
          "output_type": "stream",
          "name": "stdout",
          "text": [
            "Enter a number: 49\n",
            "Square root: 7.0\n",
            "Logarithm: 3.8918202981106265\n",
            "Sine: -0.9537526527594719\n"
          ]
        }
      ]
    },
    {
      "cell_type": "code",
      "source": [],
      "metadata": {
        "id": "jIgzh4jtZYel"
      },
      "execution_count": null,
      "outputs": []
    }
  ],
  "metadata": {
    "colab": {
      "provenance": [],
      "include_colab_link": true
    },
    "kernelspec": {
      "display_name": "Python 3",
      "name": "python3"
    }
  },
  "nbformat": 4,
  "nbformat_minor": 0
}