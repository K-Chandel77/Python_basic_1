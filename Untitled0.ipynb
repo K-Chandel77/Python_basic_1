{
  "nbformat": 4,
  "nbformat_minor": 0,
  "metadata": {
    "colab": {
      "provenance": [],
      "authorship_tag": "ABX9TyMDS8W3vH2Od70gd0AEGtsV",
      "include_colab_link": true
    },
    "kernelspec": {
      "name": "python3",
      "display_name": "Python 3"
    },
    "language_info": {
      "name": "python"
    }
  },
  "cells": [
    {
      "cell_type": "markdown",
      "metadata": {
        "id": "view-in-github",
        "colab_type": "text"
      },
      "source": [
        "<a href=\"https://colab.research.google.com/github/K-Chandel77/Python_basic_1/blob/main/Untitled0.ipynb\" target=\"_parent\"><img src=\"https://colab.research.google.com/assets/colab-badge.svg\" alt=\"Open In Colab\"/></a>"
      ]
    },
    {
      "cell_type": "code",
      "execution_count": 1,
      "metadata": {
        "colab": {
          "base_uri": "https://localhost:8080/"
        },
        "id": "9gKAMwW7wigi",
        "outputId": "8f61e465-ad48-4dc8-b0ab-f813cf14ee9d"
      },
      "outputs": [
        {
          "output_type": "stream",
          "name": "stdout",
          "text": [
            "Enter the first number: 7\n",
            "Enter the second number: 9\n",
            "\n",
            "Results:\n",
            "Addition: 16.0\n",
            "Subtraction: -2.0\n",
            "Multiplication: 63.0\n",
            "Division: 0.7777777777777778\n"
          ]
        }
      ],
      "source": [
        "num1 = float(input(\"Enter the first number: \"))\n",
        "num2 = float(input(\"Enter the second number: \"))\n",
        "\n",
        "addition = num1 + num2\n",
        "subtraction = num1 - num2\n",
        "multiplication = num1 * num2\n",
        "division = num1 / num2\n",
        "\n",
        "print(\"\\nResults:\")\n",
        "print(f\"Addition: {addition}\")\n",
        "print(f\"Subtraction: {subtraction}\")\n",
        "print(f\"Multiplication: {multiplication}\")\n",
        "print(f\"Division: {division}\")"
      ]
    },
    {
      "cell_type": "code",
      "source": [
        "first_name = input('Enter the first name: ')\n",
        "last_name = input('Enter the last name: ')\n",
        "\n",
        "Full_name = first_name + ' ' + last_name\n",
        "\n",
        "print(\"Hello \" + Full_name + \"! Welcome to the python program.\")"
      ],
      "metadata": {
        "colab": {
          "base_uri": "https://localhost:8080/"
        },
        "id": "JalSYdUJxYIp",
        "outputId": "3d48bd74-3541-476c-b60c-b2f774fc9496"
      },
      "execution_count": 14,
      "outputs": [
        {
          "output_type": "stream",
          "name": "stdout",
          "text": [
            "Enter the first name: Virat\n",
            "Enter the last name: Kohli\n",
            "Hello Virat Kohli! Welcome to the python program.\n"
          ]
        }
      ]
    },
    {
      "cell_type": "code",
      "source": [],
      "metadata": {
        "id": "SEM3y0DX0BEw"
      },
      "execution_count": null,
      "outputs": []
    }
  ]
}