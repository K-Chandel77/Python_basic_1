{
  "nbformat": 4,
  "nbformat_minor": 0,
  "metadata": {
    "colab": {
      "provenance": [],
      "authorship_tag": "ABX9TyOOKaiHAvL7Jf6ORh8n2pnb",
      "include_colab_link": true
    },
    "kernelspec": {
      "name": "python3",
      "display_name": "Python 3"
    },
    "language_info": {
      "name": "python"
    }
  },
  "cells": [
    {
      "cell_type": "markdown",
      "metadata": {
        "id": "view-in-github",
        "colab_type": "text"
      },
      "source": [
        "<a href=\"https://colab.research.google.com/github/K-Chandel77/Python_basic_1/blob/main/Control%20structers.ipynb\" target=\"_parent\"><img src=\"https://colab.research.google.com/assets/colab-badge.svg\" alt=\"Open In Colab\"/></a>"
      ]
    },
    {
      "cell_type": "code",
      "execution_count": 1,
      "metadata": {
        "colab": {
          "base_uri": "https://localhost:8080/"
        },
        "id": "f6qPxWKt5to8",
        "outputId": "2b7ac8c9-622e-41be-a339-b7c8bd8d275a"
      },
      "outputs": [
        {
          "output_type": "stream",
          "name": "stdout",
          "text": [
            "Enter the number: 9\n",
            "9 is an odd number\n"
          ]
        }
      ],
      "source": [
        "#taking integer input from the user\n",
        "\n",
        "num = int(input(\"Enter the number: \"))\n",
        "\n",
        "#check whether the number is even or odd\n",
        "\n",
        "if num % 2 == 0:\n",
        "    print(f\"{num} is an even number\")\n",
        "else:\n",
        "    print(f\"{num} is an odd number\")"
      ]
    },
    {
      "cell_type": "code",
      "source": [
        "#taking integer input from the user\n",
        "\n",
        "num = int(input(\"Enter the number: \"))\n",
        "\n",
        "#check whether the number is even or odd\n",
        "\n",
        "if num % 2 == 0:\n",
        "    print(f\"{num} is an even number\")\n",
        "else:\n",
        "    print(f\"{num} is an odd number\")"
      ],
      "metadata": {
        "colab": {
          "base_uri": "https://localhost:8080/"
        },
        "id": "Ek6GCMQ16Cuz",
        "outputId": "d3224847-e499-45f9-c8c8-b5a24634e4d7"
      },
      "execution_count": 2,
      "outputs": [
        {
          "output_type": "stream",
          "name": "stdout",
          "text": [
            "Enter the number: 14\n",
            "14 is an even number\n"
          ]
        }
      ]
    },
    {
      "cell_type": "code",
      "source": [
        "#initialize the sum to 0\n",
        "total_sum = 0\n",
        "\n",
        "#use a for loop to iterate over numbers from 1 to 50\n",
        "for num in range(1,50):\n",
        "    total_sum += num\n",
        "\n",
        "#display the final result\n",
        "print(f\"The sum of numbers from 1 to 50 is {total_sum}\")"
      ],
      "metadata": {
        "colab": {
          "base_uri": "https://localhost:8080/"
        },
        "id": "B11xKBBl6Rcg",
        "outputId": "6a178d7c-67de-4a41-ca5b-3ea9399a27e3"
      },
      "execution_count": 3,
      "outputs": [
        {
          "output_type": "stream",
          "name": "stdout",
          "text": [
            "The sum of numbers from 1 to 50 is 1225\n"
          ]
        }
      ]
    }
  ]
}